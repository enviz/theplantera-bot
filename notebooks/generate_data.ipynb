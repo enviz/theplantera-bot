{
 "cells": [
  {
   "cell_type": "markdown",
   "metadata": {
    "id": "A6fcDvGMVNbB"
   },
   "source": [
    "### Alpaca like dataset for the website theplantera.com\n",
    "\n",
    "This is an example of how to use the openai's api to create training data.\n",
    "I will create a prompt and let GPT models do its magic.\n",
    "This is not free and can be a bit expensive.\n",
    "\n",
    "However, if you are not willing to pay for the API services, you could also copy paste the same thing on chat.openai.com and put that into a JSON file."
   ]
  },
  {
   "cell_type": "markdown",
   "metadata": {
    "id": "Huf-NG-mXTYi"
   },
   "source": [
    "Example dataset format : https://huggingface.co/datasets/tatsu-lab/alpaca\n",
    "\n",
    "Ecommerce website : https://theplantera.com/"
   ]
  },
  {
   "cell_type": "code",
   "execution_count": 6,
   "metadata": {
    "colab": {
     "base_uri": "https://localhost:8080/"
    },
    "id": "ijAqzqD1XJXP",
    "outputId": "3c1c080b-da1d-4f3b-d84f-6ce98eb20923"
   },
   "outputs": [
    {
     "name": "stdout",
     "output_type": "stream",
     "text": [
      "Collecting langchain\n",
      "  Downloading langchain-0.0.341-py3-none-any.whl (1.9 MB)\n",
      "\u001b[2K     \u001b[90m━━━━━━━━━━━━━━━━━━━━━━━━━━━━━━━━━━━━━━━━\u001b[0m \u001b[32m1.9/1.9 MB\u001b[0m \u001b[31m15.5 MB/s\u001b[0m eta \u001b[36m0:00:00\u001b[0m\n",
      "\u001b[?25hRequirement already satisfied: PyYAML>=5.3 in /usr/local/lib/python3.10/dist-packages (from langchain) (6.0.1)\n",
      "Requirement already satisfied: SQLAlchemy<3,>=1.4 in /usr/local/lib/python3.10/dist-packages (from langchain) (2.0.23)\n",
      "Requirement already satisfied: aiohttp<4.0.0,>=3.8.3 in /usr/local/lib/python3.10/dist-packages (from langchain) (3.8.6)\n",
      "Requirement already satisfied: anyio<4.0 in /usr/local/lib/python3.10/dist-packages (from langchain) (3.7.1)\n",
      "Requirement already satisfied: async-timeout<5.0.0,>=4.0.0 in /usr/local/lib/python3.10/dist-packages (from langchain) (4.0.3)\n",
      "Collecting dataclasses-json<0.7,>=0.5.7 (from langchain)\n",
      "  Downloading dataclasses_json-0.6.3-py3-none-any.whl (28 kB)\n",
      "Collecting jsonpatch<2.0,>=1.33 (from langchain)\n",
      "  Downloading jsonpatch-1.33-py2.py3-none-any.whl (12 kB)\n",
      "Collecting langchain-core<0.0.7,>=0.0.6 (from langchain)\n",
      "  Downloading langchain_core-0.0.6-py3-none-any.whl (174 kB)\n",
      "\u001b[2K     \u001b[90m━━━━━━━━━━━━━━━━━━━━━━━━━━━━━━━━━━━━━━━━\u001b[0m \u001b[32m174.2/174.2 kB\u001b[0m \u001b[31m17.4 MB/s\u001b[0m eta \u001b[36m0:00:00\u001b[0m\n",
      "\u001b[?25hCollecting langsmith<0.1.0,>=0.0.63 (from langchain)\n",
      "  Downloading langsmith-0.0.66-py3-none-any.whl (46 kB)\n",
      "\u001b[2K     \u001b[90m━━━━━━━━━━━━━━━━━━━━━━━━━━━━━━━━━━━━━━━━\u001b[0m \u001b[32m46.8/46.8 kB\u001b[0m \u001b[31m5.0 MB/s\u001b[0m eta \u001b[36m0:00:00\u001b[0m\n",
      "\u001b[?25hRequirement already satisfied: numpy<2,>=1 in /usr/local/lib/python3.10/dist-packages (from langchain) (1.23.5)\n",
      "Requirement already satisfied: pydantic<3,>=1 in /usr/local/lib/python3.10/dist-packages (from langchain) (1.10.13)\n",
      "Requirement already satisfied: requests<3,>=2 in /usr/local/lib/python3.10/dist-packages (from langchain) (2.31.0)\n",
      "Requirement already satisfied: tenacity<9.0.0,>=8.1.0 in /usr/local/lib/python3.10/dist-packages (from langchain) (8.2.3)\n",
      "Requirement already satisfied: attrs>=17.3.0 in /usr/local/lib/python3.10/dist-packages (from aiohttp<4.0.0,>=3.8.3->langchain) (23.1.0)\n",
      "Requirement already satisfied: charset-normalizer<4.0,>=2.0 in /usr/local/lib/python3.10/dist-packages (from aiohttp<4.0.0,>=3.8.3->langchain) (3.3.2)\n",
      "Requirement already satisfied: multidict<7.0,>=4.5 in /usr/local/lib/python3.10/dist-packages (from aiohttp<4.0.0,>=3.8.3->langchain) (6.0.4)\n",
      "Requirement already satisfied: yarl<2.0,>=1.0 in /usr/local/lib/python3.10/dist-packages (from aiohttp<4.0.0,>=3.8.3->langchain) (1.9.2)\n",
      "Requirement already satisfied: frozenlist>=1.1.1 in /usr/local/lib/python3.10/dist-packages (from aiohttp<4.0.0,>=3.8.3->langchain) (1.4.0)\n",
      "Requirement already satisfied: aiosignal>=1.1.2 in /usr/local/lib/python3.10/dist-packages (from aiohttp<4.0.0,>=3.8.3->langchain) (1.3.1)\n",
      "Requirement already satisfied: idna>=2.8 in /usr/local/lib/python3.10/dist-packages (from anyio<4.0->langchain) (3.4)\n",
      "Requirement already satisfied: sniffio>=1.1 in /usr/local/lib/python3.10/dist-packages (from anyio<4.0->langchain) (1.3.0)\n",
      "Requirement already satisfied: exceptiongroup in /usr/local/lib/python3.10/dist-packages (from anyio<4.0->langchain) (1.1.3)\n",
      "Collecting marshmallow<4.0.0,>=3.18.0 (from dataclasses-json<0.7,>=0.5.7->langchain)\n",
      "  Downloading marshmallow-3.20.1-py3-none-any.whl (49 kB)\n",
      "\u001b[2K     \u001b[90m━━━━━━━━━━━━━━━━━━━━━━━━━━━━━━━━━━━━━━━━\u001b[0m \u001b[32m49.4/49.4 kB\u001b[0m \u001b[31m5.3 MB/s\u001b[0m eta \u001b[36m0:00:00\u001b[0m\n",
      "\u001b[?25hCollecting typing-inspect<1,>=0.4.0 (from dataclasses-json<0.7,>=0.5.7->langchain)\n",
      "  Downloading typing_inspect-0.9.0-py3-none-any.whl (8.8 kB)\n",
      "Collecting jsonpointer>=1.9 (from jsonpatch<2.0,>=1.33->langchain)\n",
      "  Downloading jsonpointer-2.4-py2.py3-none-any.whl (7.8 kB)\n",
      "Requirement already satisfied: typing-extensions>=4.2.0 in /usr/local/lib/python3.10/dist-packages (from pydantic<3,>=1->langchain) (4.5.0)\n",
      "Requirement already satisfied: urllib3<3,>=1.21.1 in /usr/local/lib/python3.10/dist-packages (from requests<3,>=2->langchain) (2.0.7)\n",
      "Requirement already satisfied: certifi>=2017.4.17 in /usr/local/lib/python3.10/dist-packages (from requests<3,>=2->langchain) (2023.7.22)\n",
      "Requirement already satisfied: greenlet!=0.4.17 in /usr/local/lib/python3.10/dist-packages (from SQLAlchemy<3,>=1.4->langchain) (3.0.1)\n",
      "Requirement already satisfied: packaging>=17.0 in /usr/local/lib/python3.10/dist-packages (from marshmallow<4.0.0,>=3.18.0->dataclasses-json<0.7,>=0.5.7->langchain) (23.2)\n",
      "Collecting mypy-extensions>=0.3.0 (from typing-inspect<1,>=0.4.0->dataclasses-json<0.7,>=0.5.7->langchain)\n",
      "  Downloading mypy_extensions-1.0.0-py3-none-any.whl (4.7 kB)\n",
      "Installing collected packages: mypy-extensions, marshmallow, jsonpointer, typing-inspect, langsmith, jsonpatch, langchain-core, dataclasses-json, langchain\n",
      "Successfully installed dataclasses-json-0.6.3 jsonpatch-1.33 jsonpointer-2.4 langchain-0.0.341 langchain-core-0.0.6 langsmith-0.0.66 marshmallow-3.20.1 mypy-extensions-1.0.0 typing-inspect-0.9.0\n",
      "Collecting unstructured\n",
      "  Downloading unstructured-0.11.0-py3-none-any.whl (1.7 MB)\n",
      "\u001b[2K     \u001b[90m━━━━━━━━━━━━━━━━━━━━━━━━━━━━━━━━━━━━━━━━\u001b[0m \u001b[32m1.7/1.7 MB\u001b[0m \u001b[31m18.4 MB/s\u001b[0m eta \u001b[36m0:00:00\u001b[0m\n",
      "\u001b[?25hRequirement already satisfied: chardet in /usr/local/lib/python3.10/dist-packages (from unstructured) (5.2.0)\n",
      "Collecting filetype (from unstructured)\n",
      "  Downloading filetype-1.2.0-py2.py3-none-any.whl (19 kB)\n",
      "Collecting python-magic (from unstructured)\n",
      "  Downloading python_magic-0.4.27-py2.py3-none-any.whl (13 kB)\n",
      "Requirement already satisfied: lxml in /usr/local/lib/python3.10/dist-packages (from unstructured) (4.9.3)\n",
      "Requirement already satisfied: nltk in /usr/local/lib/python3.10/dist-packages (from unstructured) (3.8.1)\n",
      "Requirement already satisfied: tabulate in /usr/local/lib/python3.10/dist-packages (from unstructured) (0.9.0)\n",
      "Requirement already satisfied: requests in /usr/local/lib/python3.10/dist-packages (from unstructured) (2.31.0)\n",
      "Requirement already satisfied: beautifulsoup4 in /usr/local/lib/python3.10/dist-packages (from unstructured) (4.11.2)\n",
      "Collecting emoji (from unstructured)\n",
      "  Downloading emoji-2.8.0-py2.py3-none-any.whl (358 kB)\n",
      "\u001b[2K     \u001b[90m━━━━━━━━━━━━━━━━━━━━━━━━━━━━━━━━━━━━━━━━\u001b[0m \u001b[32m358.9/358.9 kB\u001b[0m \u001b[31m31.3 MB/s\u001b[0m eta \u001b[36m0:00:00\u001b[0m\n",
      "\u001b[?25hRequirement already satisfied: dataclasses-json in /usr/local/lib/python3.10/dist-packages (from unstructured) (0.6.3)\n",
      "Collecting python-iso639 (from unstructured)\n",
      "  Downloading python_iso639-2023.6.15-py3-none-any.whl (275 kB)\n",
      "\u001b[2K     \u001b[90m━━━━━━━━━━━━━━━━━━━━━━━━━━━━━━━━━━━━━━━━\u001b[0m \u001b[32m275.1/275.1 kB\u001b[0m \u001b[31m29.2 MB/s\u001b[0m eta \u001b[36m0:00:00\u001b[0m\n",
      "\u001b[?25hCollecting langdetect (from unstructured)\n",
      "  Downloading langdetect-1.0.9.tar.gz (981 kB)\n",
      "\u001b[2K     \u001b[90m━━━━━━━━━━━━━━━━━━━━━━━━━━━━━━━━━━━━━━━━\u001b[0m \u001b[32m981.5/981.5 kB\u001b[0m \u001b[31m67.8 MB/s\u001b[0m eta \u001b[36m0:00:00\u001b[0m\n",
      "\u001b[?25h  Preparing metadata (setup.py) ... \u001b[?25l\u001b[?25hdone\n",
      "Requirement already satisfied: numpy in /usr/local/lib/python3.10/dist-packages (from unstructured) (1.23.5)\n",
      "Collecting rapidfuzz (from unstructured)\n",
      "  Downloading rapidfuzz-3.5.2-cp310-cp310-manylinux_2_17_x86_64.manylinux2014_x86_64.whl (3.3 MB)\n",
      "\u001b[2K     \u001b[90m━━━━━━━━━━━━━━━━━━━━━━━━━━━━━━━━━━━━━━━━\u001b[0m \u001b[32m3.3/3.3 MB\u001b[0m \u001b[31m71.4 MB/s\u001b[0m eta \u001b[36m0:00:00\u001b[0m\n",
      "\u001b[?25hCollecting backoff (from unstructured)\n",
      "  Downloading backoff-2.2.1-py3-none-any.whl (15 kB)\n",
      "Requirement already satisfied: typing-extensions in /usr/local/lib/python3.10/dist-packages (from unstructured) (4.5.0)\n",
      "Requirement already satisfied: wrapt in /usr/local/lib/python3.10/dist-packages (from unstructured) (1.14.1)\n",
      "Requirement already satisfied: soupsieve>1.2 in /usr/local/lib/python3.10/dist-packages (from beautifulsoup4->unstructured) (2.5)\n",
      "Requirement already satisfied: marshmallow<4.0.0,>=3.18.0 in /usr/local/lib/python3.10/dist-packages (from dataclasses-json->unstructured) (3.20.1)\n",
      "Requirement already satisfied: typing-inspect<1,>=0.4.0 in /usr/local/lib/python3.10/dist-packages (from dataclasses-json->unstructured) (0.9.0)\n",
      "Requirement already satisfied: six in /usr/local/lib/python3.10/dist-packages (from langdetect->unstructured) (1.16.0)\n",
      "Requirement already satisfied: click in /usr/local/lib/python3.10/dist-packages (from nltk->unstructured) (8.1.7)\n",
      "Requirement already satisfied: joblib in /usr/local/lib/python3.10/dist-packages (from nltk->unstructured) (1.3.2)\n",
      "Requirement already satisfied: regex>=2021.8.3 in /usr/local/lib/python3.10/dist-packages (from nltk->unstructured) (2023.6.3)\n",
      "Requirement already satisfied: tqdm in /usr/local/lib/python3.10/dist-packages (from nltk->unstructured) (4.66.1)\n",
      "Requirement already satisfied: charset-normalizer<4,>=2 in /usr/local/lib/python3.10/dist-packages (from requests->unstructured) (3.3.2)\n",
      "Requirement already satisfied: idna<4,>=2.5 in /usr/local/lib/python3.10/dist-packages (from requests->unstructured) (3.4)\n",
      "Requirement already satisfied: urllib3<3,>=1.21.1 in /usr/local/lib/python3.10/dist-packages (from requests->unstructured) (2.0.7)\n",
      "Requirement already satisfied: certifi>=2017.4.17 in /usr/local/lib/python3.10/dist-packages (from requests->unstructured) (2023.7.22)\n",
      "Requirement already satisfied: packaging>=17.0 in /usr/local/lib/python3.10/dist-packages (from marshmallow<4.0.0,>=3.18.0->dataclasses-json->unstructured) (23.2)\n",
      "Requirement already satisfied: mypy-extensions>=0.3.0 in /usr/local/lib/python3.10/dist-packages (from typing-inspect<1,>=0.4.0->dataclasses-json->unstructured) (1.0.0)\n",
      "Building wheels for collected packages: langdetect\n",
      "  Building wheel for langdetect (setup.py) ... \u001b[?25l\u001b[?25hdone\n",
      "  Created wheel for langdetect: filename=langdetect-1.0.9-py3-none-any.whl size=993224 sha256=2995b3d8f7893f263b6877c790784a9d916a1fa9f1d7b72a8e55a36e679998d8\n",
      "  Stored in directory: /root/.cache/pip/wheels/95/03/7d/59ea870c70ce4e5a370638b5462a7711ab78fba2f655d05106\n",
      "Successfully built langdetect\n",
      "Installing collected packages: filetype, rapidfuzz, python-magic, python-iso639, langdetect, emoji, backoff, unstructured\n",
      "Successfully installed backoff-2.2.1 emoji-2.8.0 filetype-1.2.0 langdetect-1.0.9 python-iso639-2023.6.15 python-magic-0.4.27 rapidfuzz-3.5.2 unstructured-0.11.0\n"
     ]
    }
   ],
   "source": [
    "!pip install langchain\n",
    "!pip install unstructured\n",
    "!pip install openai"
   ]
  },
  {
   "cell_type": "markdown",
   "metadata": {
    "id": "mj74O94DWvv4"
   },
   "source": [
    "### Web scraping\n",
    "\n",
    "- Get all the sublinks from the main website"
   ]
  },
  {
   "cell_type": "code",
   "execution_count": 2,
   "metadata": {
    "id": "2Hlr8D76VJ38"
   },
   "outputs": [],
   "source": [
    "import requests\n",
    "from bs4 import BeautifulSoup\n",
    "import urllib.parse\n",
    "\n",
    "def extract_urls(url):\n",
    "\n",
    "  # Define the URL of the webpage you want to scrape\n",
    "\n",
    "  urls = []\n",
    "  # Send an HTTP GET request to the URL\n",
    "  response = requests.get(url)\n",
    "\n",
    "  # Check if the request was successful\n",
    "  if response.status_code == 200:\n",
    "      # Parse the HTML content of the page using BeautifulSoup\n",
    "      soup = BeautifulSoup(response.text, \"html.parser\")\n",
    "\n",
    "      # Find all anchor tags (a tags) in the HTML\n",
    "      links = soup.find_all(\"a\")\n",
    "\n",
    "      # Extract and print the href attribute of each anchor tag, filtering out unwanted links\n",
    "      for link in links:\n",
    "          href = link.get(\"href\")\n",
    "          if href and not href.startswith((\"#\", \"javascript:\", \"mailto:\")):\n",
    "              # Create an absolute URL if it's a relative link\n",
    "              if not urllib.parse.urlparse(href).scheme:\n",
    "                  href = urllib.parse.urljoin(url, href)\n",
    "\n",
    "              if 'https://theplantera.com/' in href:\n",
    "\n",
    "                  urls.append(href)\n",
    "                  #urls = list(set(urls))\n",
    "                  urls = list(dict.fromkeys(urls))\n",
    "\n",
    "              #print(href)\n",
    "  else:\n",
    "      print(\"Failed to retrieve the webpage. Status code:\", response.status_code)\n",
    "\n",
    "  return urls"
   ]
  },
  {
   "cell_type": "code",
   "execution_count": 3,
   "metadata": {
    "id": "Gx5X62jbWZ_x"
   },
   "outputs": [],
   "source": [
    "all_links = extract_urls(\"https://theplantera.com\")"
   ]
  },
  {
   "cell_type": "code",
   "execution_count": 5,
   "metadata": {
    "colab": {
     "base_uri": "https://localhost:8080/"
    },
    "id": "1h0LKUiMWr3p",
    "outputId": "307703f5-cfc6-4b72-ac09-c4d6af5887cf"
   },
   "outputs": [
    {
     "data": {
      "text/plain": [
       "['https://theplantera.com/',\n",
       " 'https://theplantera.com/collections/all',\n",
       " 'https://theplantera.com/collections/best-tasting-vegan-protein-powder',\n",
       " 'https://theplantera.com/products/dark-chocolate-organic-vegan-protein-powder',\n",
       " 'https://theplantera.com/products/strawberry-basil-organic-vegan-plant-based-protein-powder']"
      ]
     },
     "execution_count": 5,
     "metadata": {},
     "output_type": "execute_result"
    }
   ],
   "source": [
    "all_links[0:5]"
   ]
  },
  {
   "cell_type": "code",
   "execution_count": 8,
   "metadata": {
    "colab": {
     "base_uri": "https://localhost:8080/"
    },
    "id": "jdGD9i8QXDD4",
    "outputId": "5e41081f-6edb-40a7-ff5c-68375e9428c0"
   },
   "outputs": [
    {
     "name": "stderr",
     "output_type": "stream",
     "text": [
      "[nltk_data] Downloading package punkt to /root/nltk_data...\n",
      "[nltk_data]   Unzipping tokenizers/punkt.zip.\n",
      "[nltk_data] Downloading package averaged_perceptron_tagger to\n",
      "[nltk_data]     /root/nltk_data...\n",
      "[nltk_data]   Unzipping taggers/averaged_perceptron_tagger.zip.\n"
     ]
    }
   ],
   "source": [
    "from langchain.document_loaders import UnstructuredURLLoader\n",
    "loaders = UnstructuredURLLoader(urls=all_links)\n",
    "data = loaders.load()"
   ]
  },
  {
   "cell_type": "code",
   "execution_count": 9,
   "metadata": {
    "colab": {
     "base_uri": "https://localhost:8080/"
    },
    "id": "6hsP5x2mX2si",
    "outputId": "c57bf192-680f-4b5d-c1ac-c67306f13cfb"
   },
   "outputs": [
    {
     "data": {
      "text/plain": [
       "(32, 32)"
      ]
     },
     "execution_count": 9,
     "metadata": {},
     "output_type": "execute_result"
    }
   ],
   "source": [
    "len(data),len(all_links)"
   ]
  },
  {
   "cell_type": "code",
   "execution_count": 10,
   "metadata": {
    "colab": {
     "base_uri": "https://localhost:8080/"
    },
    "id": "fyf2ORniX5e0",
    "outputId": "fb387ab9-8522-487c-95f8-31e1efc50619"
   },
   "outputs": [
    {
     "data": {
      "text/plain": [
       "Document(page_content=\"Skip to content\\n\\nHome\\n\\nProducts\\n                        \\n\\n                        \\n\\n                          \\n                          \\n                            \\n                            \\n                            \\n                          \\n\\n                          \\n\\n                            \\n                              \\n                                \\n                                  VEGAN PROTEIN POWDER\\n\\n                                  \\n                                    \\n\\n                                  \\n                                \\n\\n                                \\n                                  \\n                                    \\n                                      \\n                                        Dark Chocolate Protein Powder\\n                                      \\n                                    \\n                                      \\n                                        Strawberry-Basil Protein Powder\\n                                      \\n                                    \\n                                  \\n                                \\n                              \\n                            \\n                              \\n                                \\n                                  VITAMINS\\n\\n                                  \\n                                    \\n\\n                                  \\n                                \\n\\n                                \\n                                  \\n                                    \\n                                      \\n                                        Vegan Bone Support\\n                                      \\n                                    \\n                                      \\n                                        Vegan Immune Support\\n                                      \\n                                    \\n                                      \\n                                        Vegan Omega\\n                                      \\n                                    \\n                                      \\n                                        Vegan Turmeric & Black Pepper\\n                                      \\n                                    \\n                                      \\n                                        Vegan Vitamin D3\\n                                      \\n                                    \\n                                  \\n                                \\n                              \\n                            \\n                              \\n                                \\n                                  MERCHANDISE\\n\\n                                  \\n                                    \\n\\n                                  \\n                                \\n\\n                                \\n                                  \\n                                    \\n                                      \\n                                        Insulated Stainless Steel Protein Shaker\\n\\nAbout\\n\\nMenu\\n            Close\\n            Back\\n\\nHome\\n\\nProducts\\n\\nAbout\\n\\nAccount\\n\\nCurrency\\n\\nDown\\n\\nALL L\\n\\nAMD դր.\\n\\nBAM КМ\\n\\nBGN лв.\\n\\nCAD $\\n\\nCHF CHF\\n\\nCZK Kč\\n\\nDKK kr.\\n\\nEUR €\\n\\nGBP £\\n\\nHKD $\\n\\nHUF Ft\\n\\nILS ₪\\n\\nISK kr\\n\\nJPY ¥\\n\\nKRW ₩\\n\\nMDL L\\n\\nMKD ден\\n\\nPLN zł\\n\\nRON Lei\\n\\nRSD РСД\\n\\nSEK kr\\n\\nUAH ₴\\n\\nUSD $\\n\\nFacebook\\n\\nInstagram\\n\\nHome\\n\\nProducts\\n\\nVEGAN PROTEIN POWDER\\n\\nVITAMINS\\n\\nMERCHANDISE\\n\\nHome\\n\\nProducts\\n\\nVEGAN PROTEIN POWDER\\n\\nDark Chocolate Protein Powder\\n\\nStrawberry-Basil Protein Powder\\n\\nHome\\n\\nProducts\\n\\nVITAMINS\\n\\nVegan Bone Support\\n\\nVegan Immune Support\\n\\nVegan Omega\\n\\nVegan Turmeric & Black Pepper\\n\\nVegan Vitamin D3\\n\\nHome\\n\\nProducts\\n\\nMERCHANDISE\\n\\nInsulated Stainless Steel Protein Shaker\\n\\nThe Plant Era\\n\\nCurrency\\n\\nDown\\n\\nALL L\\n\\nAMD դր.\\n\\nBAM КМ\\n\\nBGN лв.\\n\\nCAD $\\n\\nCHF CHF\\n\\nCZK Kč\\n\\nDKK kr.\\n\\nEUR €\\n\\nGBP £\\n\\nHKD $\\n\\nHUF Ft\\n\\nILS ₪\\n\\nISK kr\\n\\nJPY ¥\\n\\nKRW ₩\\n\\nMDL L\\n\\nMKD ден\\n\\nPLN zł\\n\\nRON Lei\\n\\nRSD РСД\\n\\nSEK kr\\n\\nUAH ₴\\n\\nUSD $\\n\\nSearch\\n\\nClose\\n\\nSearch Store\\n\\nClose\\n\\nOn a mission to develop the world's best sports nutrition\\n\\nExplore products\\n\\nPEA AND RICE PROTEIN\\n\\nVITAMIN B12\\n\\n18 AMINO ACIDS (INCLUDING BCAA)\\n\\nNO SUGAR, DAIRY, GLUTEN OR ANY ARTIFICIAL\\n\\nA Protein Powder Designed for Performance\\n\\nSold Out\\n\\nChocolate Vegan Protein Powder\\n      \\n      \\n        From\\n\\n        $25.00\\n\\nSold Out\\n\\nVegan Vitamin D3\\n      \\n      \\n        \\n\\n        $18.00\\n\\nSold Out\\n\\nVegan Bone Support\\n      \\n      \\n        \\n\\n        $15.00\\n\\nEXPLORE PRODUCTS\\n\\n#FitnessForever\\n\\nAbout UsOur Story. Our Mission.\\n\\nThe Case for Plant-Based Diets: PerformanceThe Future.\\n\\nThe Case for Plant-Based Diets: HealthLearn More.\\n\\nShop NowTreat Yourself\\n\\nBlog - Our Journal\\n\\nSix Health Benefits of Pumpkin Seeds\\n\\nPumpkin seeds are one of the hidden gems of nutrition for those looking to live a longer and healthier life. Switching out your normal snack for pu...\\n\\nRead more\\n\\nAmino Acids Explained in Under 150 Words\\n\\nAmino acids explained in under 150 words\\n\\nRead more\\n\\nThe Case for Plant-Based Diets: Sustainability\\n\\nGoing plant-based has many benefits, but one of largest benefits is the sustainability results that comes from consuming less meat and dairy.\\n\\xa0\\n1. ...\\n\\nRead more\\n\\nThe Case for Plant-Based Diets: Performance\\n\\nPlant-based diets have been proven to give athletes an advantage with athletic performance, specifically:\\n\\xa0\\n1. Increasing blood flow\\nDue to the sat...\\n\\nRead more\\n\\nTHE PLANT ERA\\n\\nOUR MISSION IS TO INNOVATE, INSPIRE AND DEVELOP\\n\\nTHE WORLD'S BEST SPORT NUTRITION\\n\\nSubscribe to our newsletter\\n\\nProducts\\n\\nAll Products\\n\\nVitamins\\n\\nMerchandise\\n\\nVegan Protein Powder\\n\\nPartnerships\\n\\nAffiliate Program\\n\\nThe Plant Era\\n\\nAbout\\n\\nBlog\\n\\nThe Case for PB Diets: Health\\n\\nThe Case for PB Diets: Performance\\n\\nThe Case for PB Diets: Sustainability\\n\\nMore\\n\\nContact Us\\n\\nLegal Notice\\n\\nPrivacy Policy\\n\\nRefund Policy\\n\\nShipping Policy\\n\\nTerms of Service\\n\\nSubscription Policy\\n\\nCVR No: 40612254\\n\\nPuggaardsgade 7, 1.tv,\\n\\nCopenhagen, Denmark 1573\\n\\nCurrency\\n\\nDown\\n\\nALL L\\n\\nAMD դր.\\n\\nBAM КМ\\n\\nBGN лв.\\n\\nCAD $\\n\\nCHF CHF\\n\\nCZK Kč\\n\\nDKK kr.\\n\\nEUR €\\n\\nGBP £\\n\\nHKD $\\n\\nHUF Ft\\n\\nILS ₪\\n\\nISK kr\\n\\nJPY ¥\\n\\nKRW ₩\\n\\nMDL L\\n\\nMKD ден\\n\\nPLN zł\\n\\nRON Lei\\n\\nRSD РСД\\n\\nSEK kr\\n\\nUAH ₴\\n\\nUSD $\\n\\nFacebook\\n\\nInstagram\\n\\n© 2023 The Plant Era\\n\\nPowered by Shopify\", metadata={'source': 'https://theplantera.com/'})"
      ]
     },
     "execution_count": 10,
     "metadata": {},
     "output_type": "execute_result"
    }
   ],
   "source": [
    "data[0]"
   ]
  },
  {
   "cell_type": "markdown",
   "metadata": {
    "id": "JI-v5wJuYGy8"
   },
   "source": [
    "### Generate JSON data in the exact same format as Alpaca\n",
    "\n",
    "- We will use the web scraped contents and ask a powerful model like GPT to create some training data for us that we can then use to fine tune an open source model like Llama2 for example.\n",
    "\n"
   ]
  },
  {
   "cell_type": "code",
   "execution_count": null,
   "metadata": {},
   "outputs": [],
   "source": [
    "import openai\n",
    "import os"
   ]
  },
  {
   "cell_type": "code",
   "execution_count": 12,
   "metadata": {
    "id": "ux7vjgWLZfVN"
   },
   "outputs": [],
   "source": [
    "key = 'enter_your_key'"
   ]
  },
  {
   "cell_type": "code",
   "execution_count": 13,
   "metadata": {
    "id": "g0VbU-vtYHTE"
   },
   "outputs": [],
   "source": [
    "os.environ['OPENAI_API_KEY'] = key\n",
    "openai.api_key = os.getenv('OPENAI_API_KEY')"
   ]
  },
  {
   "cell_type": "code",
   "execution_count": 26,
   "metadata": {
    "id": "u33QUPf9aAYz"
   },
   "outputs": [],
   "source": [
    "instruction_text = \"\"\"I have some data scraped from a webpage but it is quite unstructured. I need you to generate a dataset based on the following format. Let me describe it for you.\n",
    "\n",
    "So there are 4 columns : instruction, input , output and text. (all are of data type string)\n",
    "The instruction column has the question or the prompt that describes the task.\n",
    "The input column is optional but it is paired with additional context.\n",
    "The output is the model's response\n",
    "And the text is basically a string that combines the text that is in instruction, input and output.\n",
    "\n",
    "An example of a dataset with input in JSON format looks like this :\n",
    "\n",
    "{\n",
    "    \"instruction\": \"Create a classification task by clustering the given list of items.\",\n",
    "    \"input\": \"Apples, oranges, bananas, strawberries, pineapples\",\n",
    "    \"output\": \"Class 1: Apples, Oranges\\nClass 2: Bananas, Strawberries\\nClass 3: Pineapples\",\n",
    "    \"text\": \"Below is an instruction that describes a task, paired with an input that provides further context. Write a response that appropriately completes the request.\\n\\n### Instruction:\\nCreate a classification task by clustering the given list of items.\\n\\n### Input:\\nApples, oranges, bananas, strawberries, pineapples\\n\\n### Response:\\nClass 1: Apples, Oranges\\nClass 2: Bananas, Strawberries\\nClass 3: Pineapples\",\n",
    "}\n",
    "\n",
    "An example of a dataset without an input in JSON looks like this:\n",
    "\n",
    "{\n",
    "    \"instruction\": \"Describe the structure of an atom.\",\n",
    "    \"input\": \"\",\n",
    "    \"output\": \"An atom is made up of a nucleus, which contains protons and neutrons, surrounded by electrons that travel in orbits around the nucleus. The protons and neutrons have a positive charge, while the electrons have a negative charge, resulting in an overall neutral atom. The number of each particle determines the atomic number and the type of atom.\",\n",
    "    \"text\": \"Below is an instruction that describes a task. Write a response that appropriately completes the request. ### Instruction: Describe the structure of an atom. ### Response: An atom is made up of a nucleus, which contains protons and neutrons, surrounded by electrons that travel in orbits around the nucleus. The protons and neutrons have a positive charge, while the electrons have a negative charge, resulting in an overall neutral atom. The number of each particle determines the atomic number and the type of atom.\",\n",
    "}\n",
    "\n",
    "The raw web scraped data looks like this  and I need you to generate 5 datapoints  (with and without input) using the structure I mentioned above. Make sure to stick to the context of the web scraped data  :\"\"\""
   ]
  },
  {
   "cell_type": "code",
   "execution_count": 27,
   "metadata": {
    "id": "GPcRWARuZzzn"
   },
   "outputs": [],
   "source": [
    "prompt_1 = instruction_text + \"\\n\" + data[0].page_content"
   ]
  },
  {
   "cell_type": "code",
   "execution_count": 28,
   "metadata": {
    "id": "VMY7WxgFZvq5"
   },
   "outputs": [],
   "source": [
    "from openai import OpenAI\n",
    "client = OpenAI()\n",
    "\n",
    "response = client.chat.completions.create(\n",
    "  model=\"gpt-3.5-turbo\",\n",
    "  messages=[\n",
    "    {\"role\": \"system\", \"content\": prompt_1}\n",
    "  ]\n",
    ")"
   ]
  },
  {
   "cell_type": "code",
   "execution_count": 35,
   "metadata": {
    "colab": {
     "base_uri": "https://localhost:8080/"
    },
    "id": "K7wYJANWahyk",
    "outputId": "efdd42fb-9581-4f23-bfae-6a18e7eae25c"
   },
   "outputs": [
    {
     "name": "stdout",
     "output_type": "stream",
     "text": [
      "{\n",
      "  \"instruction\": \"Describe the range of products available from The Plant Era.\",\n",
      "  \"input\": \"\",\n",
      "  \"output\": \"The Plant Era offers a range of vegan protein powders, vitamins, and merchandise. Their vegan protein powders come in flavors like Dark Chocolate and Strawberry-Basil. They also offer vitamins such as Vegan Bone Support, Vegan Immune Support, Vegan Omega, Vegan Turmeric & Black Pepper, and Vegan Vitamin D3. Additionally, they have merchandise available, including an Insulated Stainless Steel Protein Shaker.\",\n",
      "  \"text\": \"Below is an instruction that describes a task. Write a response that appropriately completes the request. ### Instruction: Describe the range of products available from The Plant Era. ### Response: The Plant Era offers a range of vegan protein powders, vitamins, and merchandise. Their vegan protein powders come in flavors like Dark Chocolate and Strawberry-Basil. They also offer vitamins such as Vegan Bone Support, Vegan Immune Support, Vegan Omega, Vegan Turmeric & Black Pepper, and Vegan Vitamin D3. Additionally, they have merchandise available, including an Insulated Stainless Steel Protein Shaker.\"\n",
      "}\n",
      "\n",
      "{\n",
      "  \"instruction\": \"Explain the benefits of consuming a plant-based diet.\",\n",
      "  \"input\": \"\",\n",
      "  \"output\": \"Consuming a plant-based diet has numerous benefits for both personal health and the environment. Some of the health benefits include improved heart health, weight management, reduced risk of chronic diseases like diabetes and cancer, and increased nutrient intake. Plant-based diets are also more sustainable and have a lower carbon footprint compared to diets that include meat and dairy. They help conserve resources, reduce greenhouse gas emissions, and promote biodiversity. Overall, a plant-based diet can contribute to a healthier body and a healthier planet.\",\n",
      "  \"text\": \"Below is an instruction that describes a task. Write a response that appropriately completes the request. ### Instruction: Explain the benefits of consuming a plant-based diet. ### Response: Consuming a plant-based diet has numerous benefits for both personal health and the environment. Some of the health benefits include improved heart health, weight management, reduced risk of chronic diseases like diabetes and cancer, and increased nutrient intake. Plant-based diets are also more sustainable and have a lower carbon footprint compared to diets that include meat and dairy. They help conserve resources, reduce greenhouse gas emissions, and promote biodiversity. Overall, a plant-based diet can contribute to a healthier body and a healthier planet.\"\n",
      "}\n",
      "\n",
      "{\n",
      "  \"instruction\": \"Describe the process of making a protein powder.\",\n",
      "  \"input\": \"\",\n",
      "  \"output\": \"The process of making a protein powder typically involves several steps. First, the primary protein source, such as peas or rice, is selected. This source is then processed to extract the protein content. Next, the extracted protein undergoes further processing, which may include filtration, purification, and concentration to remove impurities and increase the protein content. The processed protein is then blended with other ingredients like flavors, sweeteners, and preservatives to enhance taste and shelf life. Finally, the mixture is packaged into containers or bags and labeled for sale. Quality control measures are often implemented throughout the process to ensure consistency, safety, and efficacy.\",\n",
      "  \"text\": \"Below is an instruction that describes a task. Write a response that appropriately completes the request. ### Instruction: Describe the process of making a protein powder. ### Response: The process of making a protein powder typically involves several steps. First, the primary protein source, such as peas or rice, is selected. This source is then processed to extract the protein content. Next, the extracted protein undergoes further processing, which may include filtration, purification, and concentration to remove impurities and increase the protein content. The processed protein is then blended with other ingredients like flavors, sweeteners, and preservatives to enhance taste and shelf life. Finally, the mixture is packaged into containers or bags and labeled for sale. Quality control measures are often implemented throughout the process to ensure consistency, safety, and efficacy.\"\n",
      "}\n",
      "\n",
      "{\n",
      "  \"instruction\": \"Explain the benefits of using an insulated stainless steel protein shaker.\",\n",
      "  \"input\": \"\",\n",
      "  \"output\": \"Using an insulated stainless steel protein shaker offers several benefits. Firstly, the insulation helps maintain the temperature of the drink, keeping it cold for longer periods. This is especially beneficial for protein shakes that are meant to be consumed on-the-go or during workouts. Additionally, the stainless steel material is durable and resistant to rust or corrosion, ensuring the shaker's longevity. It is also easy to clean and provides a hygienic option for mixing protein powders. Furthermore, stainless steel is BPA-free, eliminating the risk of harmful chemicals leaching into the drink. Overall, an insulated stainless steel protein shaker provides convenience, durability, and safety for consumers.\",\n",
      "  \"text\": \"Below is an instruction that describes a task. Write a response that appropriately completes the request. ### Instruction: Explain the benefits of using an insulated stainless steel protein shaker. ### Response: Using an insulated stainless steel protein shaker offers several benefits. Firstly, the insulation helps maintain the temperature of the drink, keeping it cold for longer periods. This is especially beneficial for protein shakes that are meant to be consumed on-the-go or during workouts. Additionally, the stainless steel material is durable and resistant to rust or corrosion, ensuring the shaker's longevity. It is also easy to clean and provides a hygienic option for mixing protein powders. Furthermore, stainless steel is BPA-free, eliminating the risk of harmful chemicals leaching into the drink. Overall, an insulated stainless steel protein shaker provides convenience, durability, and safety for consumers.\"\n",
      "}\n",
      "\n",
      "{\n",
      "  \"instruction\": \"Describe the health benefits of vitamin D3.\",\n",
      "  \"input\": \"\",\n",
      "  \"output\": \"Vitamin D3 offers several health benefits for the body. Firstly, it plays a crucial role in maintaining healthy bones and teeth by aiding in the absorption of calcium and phosphorus. Sufficient vitamin D3 levels can help prevent conditions like osteoporosis and tooth decay. Vitamin D3 also supports a healthy immune system, helping the body fight off infections and diseases. It has anti-inflammatory properties and may contribute to reducing the risk of autoimmune conditions. Additionally, vitamin D3 is important for mood regulation and mental health. It is involved in the production of serotonin, a neurotransmitter that helps regulate mood. Adequate vitamin D3 levels have been associated with a lower risk of depression and improved overall mental well-being. Overall, vitamin D3 plays a vital role in bone health, immune function, and mental well-being.\",\n",
      "  \"text\": \"Below is an instruction that describes a task. Write a response that appropriately completes the request. ### Instruction: Describe the health benefits of vitamin D3. ### Response: Vitamin D3 offers several health benefits for the body. Firstly, it plays a crucial role in maintaining healthy bones and teeth by aiding in the absorption of calcium and phosphorus. Sufficient vitamin D3 levels can help prevent conditions like osteoporosis and tooth decay. Vitamin D3 also supports a healthy immune system, helping the body fight off infections and diseases. It has anti-inflammatory properties and may contribute to reducing the risk of autoimmune conditions. Additionally, vitamin D3 is important for mood regulation and mental health. It is involved in the production of serotonin, a neurotransmitter that helps regulate mood. Adequate vitamin D3 levels have been associated with a lower risk of depression and improved overall mental well-being. Overall, vitamin D3 plays a vital role in bone health, immune function, and mental well-being.\"\n",
      "}\n"
     ]
    }
   ],
   "source": [
    "print(response.choices[0].message.content)"
   ]
  },
  {
   "cell_type": "code",
   "execution_count": null,
   "metadata": {
    "id": "8NI8sEq1eZo5"
   },
   "outputs": [],
   "source": []
  }
 ],
 "metadata": {
  "colab": {
   "provenance": []
  },
  "kernelspec": {
   "display_name": "Python 3",
   "language": "python",
   "name": "python3"
  },
  "language_info": {
   "codemirror_mode": {
    "name": "ipython",
    "version": 3
   },
   "file_extension": ".py",
   "mimetype": "text/x-python",
   "name": "python",
   "nbconvert_exporter": "python",
   "pygments_lexer": "ipython3",
   "version": "3.8.8"
  }
 },
 "nbformat": 4,
 "nbformat_minor": 1
}
